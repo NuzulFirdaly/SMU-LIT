{
 "cells": [
  {
   "cell_type": "code",
   "execution_count": 1,
   "metadata": {},
   "outputs": [],
   "source": [
    "import torch\n",
    "from PIL import Image"
   ]
  },
  {
   "cell_type": "markdown",
   "metadata": {},
   "source": []
  },
  {
   "cell_type": "code",
   "execution_count": 2,
   "metadata": {},
   "outputs": [
    {
     "name": "stderr",
     "output_type": "stream",
     "text": [
      "c:\\Users\\firda\\miniconda3\\envs\\smu_lit\\lib\\site-packages\\tqdm\\auto.py:22: TqdmWarning: IProgress not found. Please update jupyter and ipywidgets. See https://ipywidgets.readthedocs.io/en/stable/user_install.html\n",
      "  from .autonotebook import tqdm as notebook_tqdm\n",
      "c:\\Users\\firda\\miniconda3\\envs\\smu_lit\\lib\\site-packages\\transformers\\tokenization_utils_base.py:1601: FutureWarning: `clean_up_tokenization_spaces` was not set. It will be set to `True` by default. This behavior will be depracted in transformers v4.45, and will be then set to `False` by default. For more details check this issue: https://github.com/huggingface/transformers/issues/31884\n",
      "  warnings.warn(\n"
     ]
    }
   ],
   "source": [
    "# Load model directly\n",
    "from transformers import pipeline\n",
    "from transformers import ViltProcessor, ViltModel\n",
    "from torchvision import transforms\n",
    "\n",
    "# Load the processor and model\n",
    "processor = ViltProcessor.from_pretrained(\"dandelin/vilt-b32-mlm\")\n",
    "model = ViltModel.from_pretrained(\"dandelin/vilt-b32-mlm\")\n",
    "device = torch.device('cuda' if torch.cuda.is_available() else 'cpu')\n",
    "model.to(device)\n",
    "\n",
    "#for text input only\n",
    "classifier = pipeline(\"zero-shot-classification\", model=\"facebook/bart-large-mnli\")\n"
   ]
  },
  {
   "cell_type": "code",
   "execution_count": 5,
   "metadata": {},
   "outputs": [],
   "source": [
    "categories = [\n",
    "    \"Safe content that does not contain harmful or inappropriate elements.\",\n",
    "    \"harassment involving insults and threats\",\n",
    "    \"Explicit sexual content including nudity, pornography, or sexually suggestive language.\",\n",
    "    \"Content that incites or provokes hatred, violence, or discrimination based on race, religion, or ethnicity.\",\n",
    "    \"Content depicting physical violence, threats, or promotion of violent behavior.\",\n",
    "]\n",
    "\n",
    "# Function to classify text into categories\n",
    "def classify_text(text):\n",
    "    result = classifier(text, candidate_labels=categories)\n",
    "    return {\"best_category\": result['labels'][0], \"probs\": result['scores']}\n",
    "\n",
    "def classify_image_and_text(text, image_path):\n",
    "    # Load and process the image and text\n",
    "    image = Image.open(image_path)\n",
    "    inputs = processor(text=[text], images=image, return_tensors=\"pt\", padding=True)\n",
    "\n",
    "    # Get the embeddings from the model\n",
    "    with torch.no_grad():\n",
    "        outputs = model(**inputs)\n",
    "\n",
    "    # For simplicity, we'll take the mean of the last hidden state across tokens\n",
    "    pooled_output = outputs.last_hidden_state.mean(dim=1)\n",
    "\n",
    "    # Simulate a classification by comparing the pooled output with some randomly initialized category vectors\n",
    "    # In a real-world scenario, you'd train these vectors on a labeled dataset\n",
    "    category_tensors = torch.randn(len(categories), pooled_output.size(-1))\n",
    "    logits = torch.matmul(pooled_output, category_tensors.T).squeeze()\n",
    "\n",
    "    # Get probabilities\n",
    "    probs = torch.nn.functional.softmax(logits, dim=0)\n",
    "    best_category = categories[torch.argmax(probs)]\n",
    "\n",
    "    return {\"best_category\": best_category, \"probs\": probs}"
   ]
  },
  {
   "cell_type": "code",
   "execution_count": 11,
   "metadata": {},
   "outputs": [
    {
     "name": "stdout",
     "output_type": "stream",
     "text": [
      "Detected category with image: Safe content that does not contain harmful or inappropriate elements.\n",
      "Probabilities with image: tensor([1., 0., 0., 0., 0.])\n"
     ]
    }
   ],
   "source": [
    "text = \"lol\"\n",
    "\n",
    "# # Example with both text and image\n",
    "image_path = \"./1950306.jpg\"\n",
    "\n",
    "if image_path:\n",
    "    result = classify_image_and_text(text, image_path)\n",
    "    print(f\"Detected category with image: {result['best_category']}\")\n",
    "    print(f\"Probabilities with image: {result['probs']}\")\n",
    "else:\n",
    "    result = classify_text(text)\n",
    "\n",
    "    print(f\"Detected category without image: {result['best_category']}\")\n",
    "    print(f\"Probabilities without image: {result['probs']}\")"
   ]
  },
  {
   "cell_type": "code",
   "execution_count": null,
   "metadata": {},
   "outputs": [],
   "source": []
  },
  {
   "cell_type": "code",
   "execution_count": null,
   "metadata": {},
   "outputs": [],
   "source": []
  }
 ],
 "metadata": {
  "kernelspec": {
   "display_name": "Python 3",
   "language": "python",
   "name": "python3"
  },
  "language_info": {
   "codemirror_mode": {
    "name": "ipython",
    "version": 3
   },
   "file_extension": ".py",
   "mimetype": "text/x-python",
   "name": "python",
   "nbconvert_exporter": "python",
   "pygments_lexer": "ipython3",
   "version": "3.9.1"
  }
 },
 "nbformat": 4,
 "nbformat_minor": 2
}
